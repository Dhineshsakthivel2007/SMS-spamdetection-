{
 "cells": [
  {
   "cell_type": "code",
   "execution_count": 24,
   "id": "88ea54b6",
   "metadata": {},
   "outputs": [],
   "source": [
    "import pandas as pd\n",
    "import matplotlib.pyplot as plt\n",
    "import seaborn as sns\n",
    "import numpy as np"
   ]
  },
  {
   "cell_type": "code",
   "execution_count": 25,
   "id": "e319eec0",
   "metadata": {},
   "outputs": [],
   "source": [
    "df = pd.read_csv(\"spam.csv\", encoding=\"latin-1\")[['v1','v2']]\n",
    "df.columns = ['label','message']\n",
    "df['is_spam'] = df['label'].map({'ham':0,'spam':1})\n",
    "df['word_freq_free'] = df['message'].str.lower().str.count('free')\n",
    "df['word_freq_win'] = df['message'].str.lower().str.count('win')\n",
    "df['word_freq_offer'] = df['message'].str.lower().str.count('offer')\n",
    "df['sms_length'] = df['message'].str.len()\n",
    "df_features = df[['word_freq_free','word_freq_win','word_freq_offer','sms_length','is_spam']]"
   ]
  },
  {
   "cell_type": "code",
   "execution_count": 26,
   "id": "db113cf3",
   "metadata": {},
   "outputs": [
    {
     "data": {
      "text/plain": [
       "is_spam\n",
       "0    4825\n",
       "1     747\n",
       "Name: count, dtype: int64"
      ]
     },
     "execution_count": 26,
     "metadata": {},
     "output_type": "execute_result"
    }
   ],
   "source": [
    "df['is_spam'].value_counts()"
   ]
  },
  {
   "cell_type": "code",
   "execution_count": 27,
   "id": "67c5911f",
   "metadata": {},
   "outputs": [
    {
     "data": {
      "text/html": [
       "<div>\n",
       "<style scoped>\n",
       "    .dataframe tbody tr th:only-of-type {\n",
       "        vertical-align: middle;\n",
       "    }\n",
       "\n",
       "    .dataframe tbody tr th {\n",
       "        vertical-align: top;\n",
       "    }\n",
       "\n",
       "    .dataframe thead th {\n",
       "        text-align: right;\n",
       "    }\n",
       "</style>\n",
       "<table border=\"1\" class=\"dataframe\">\n",
       "  <thead>\n",
       "    <tr style=\"text-align: right;\">\n",
       "      <th></th>\n",
       "      <th>word_freq_free</th>\n",
       "      <th>word_freq_win</th>\n",
       "      <th>word_freq_offer</th>\n",
       "      <th>sms_length</th>\n",
       "      <th>is_spam</th>\n",
       "    </tr>\n",
       "  </thead>\n",
       "  <tbody>\n",
       "    <tr>\n",
       "      <th>0</th>\n",
       "      <td>0</td>\n",
       "      <td>0</td>\n",
       "      <td>0</td>\n",
       "      <td>111</td>\n",
       "      <td>0</td>\n",
       "    </tr>\n",
       "    <tr>\n",
       "      <th>1</th>\n",
       "      <td>0</td>\n",
       "      <td>0</td>\n",
       "      <td>0</td>\n",
       "      <td>29</td>\n",
       "      <td>0</td>\n",
       "    </tr>\n",
       "    <tr>\n",
       "      <th>2</th>\n",
       "      <td>1</td>\n",
       "      <td>1</td>\n",
       "      <td>0</td>\n",
       "      <td>155</td>\n",
       "      <td>1</td>\n",
       "    </tr>\n",
       "    <tr>\n",
       "      <th>3</th>\n",
       "      <td>0</td>\n",
       "      <td>0</td>\n",
       "      <td>0</td>\n",
       "      <td>49</td>\n",
       "      <td>0</td>\n",
       "    </tr>\n",
       "    <tr>\n",
       "      <th>4</th>\n",
       "      <td>0</td>\n",
       "      <td>0</td>\n",
       "      <td>0</td>\n",
       "      <td>61</td>\n",
       "      <td>0</td>\n",
       "    </tr>\n",
       "  </tbody>\n",
       "</table>\n",
       "</div>"
      ],
      "text/plain": [
       "   word_freq_free  word_freq_win  word_freq_offer  sms_length  is_spam\n",
       "0               0              0                0         111        0\n",
       "1               0              0                0          29        0\n",
       "2               1              1                0         155        1\n",
       "3               0              0                0          49        0\n",
       "4               0              0                0          61        0"
      ]
     },
     "execution_count": 27,
     "metadata": {},
     "output_type": "execute_result"
    }
   ],
   "source": [
    "df_features.head()"
   ]
  },
  {
   "cell_type": "code",
   "execution_count": 28,
   "id": "9ee7e051",
   "metadata": {},
   "outputs": [
    {
     "data": {
      "text/plain": [
       "word_freq_free     0\n",
       "word_freq_win      0\n",
       "word_freq_offer    0\n",
       "sms_length         0\n",
       "is_spam            0\n",
       "dtype: int64"
      ]
     },
     "execution_count": 28,
     "metadata": {},
     "output_type": "execute_result"
    }
   ],
   "source": [
    "df_features.isna().sum()"
   ]
  },
  {
   "cell_type": "code",
   "execution_count": 29,
   "id": "cd3e2e7f",
   "metadata": {},
   "outputs": [
    {
     "name": "stdout",
     "output_type": "stream",
     "text": [
      "<class 'pandas.core.frame.DataFrame'>\n",
      "RangeIndex: 5572 entries, 0 to 5571\n",
      "Data columns (total 5 columns):\n",
      " #   Column           Non-Null Count  Dtype\n",
      "---  ------           --------------  -----\n",
      " 0   word_freq_free   5572 non-null   int64\n",
      " 1   word_freq_win    5572 non-null   int64\n",
      " 2   word_freq_offer  5572 non-null   int64\n",
      " 3   sms_length       5572 non-null   int64\n",
      " 4   is_spam          5572 non-null   int64\n",
      "dtypes: int64(5)\n",
      "memory usage: 217.8 KB\n"
     ]
    }
   ],
   "source": [
    "df_features.info()"
   ]
  },
  {
   "cell_type": "code",
   "execution_count": 30,
   "id": "e446f15e",
   "metadata": {},
   "outputs": [
    {
     "data": {
      "text/html": [
       "<div>\n",
       "<style scoped>\n",
       "    .dataframe tbody tr th:only-of-type {\n",
       "        vertical-align: middle;\n",
       "    }\n",
       "\n",
       "    .dataframe tbody tr th {\n",
       "        vertical-align: top;\n",
       "    }\n",
       "\n",
       "    .dataframe thead th {\n",
       "        text-align: right;\n",
       "    }\n",
       "</style>\n",
       "<table border=\"1\" class=\"dataframe\">\n",
       "  <thead>\n",
       "    <tr style=\"text-align: right;\">\n",
       "      <th></th>\n",
       "      <th>word_freq_free</th>\n",
       "      <th>word_freq_win</th>\n",
       "      <th>word_freq_offer</th>\n",
       "      <th>sms_length</th>\n",
       "      <th>is_spam</th>\n",
       "    </tr>\n",
       "  </thead>\n",
       "  <tbody>\n",
       "    <tr>\n",
       "      <th>count</th>\n",
       "      <td>5572.000000</td>\n",
       "      <td>5572.000000</td>\n",
       "      <td>5572.000000</td>\n",
       "      <td>5572.000000</td>\n",
       "      <td>5572.000000</td>\n",
       "    </tr>\n",
       "    <tr>\n",
       "      <th>mean</th>\n",
       "      <td>0.058686</td>\n",
       "      <td>0.033740</td>\n",
       "      <td>0.009332</td>\n",
       "      <td>80.118808</td>\n",
       "      <td>0.134063</td>\n",
       "    </tr>\n",
       "    <tr>\n",
       "      <th>std</th>\n",
       "      <td>0.286039</td>\n",
       "      <td>0.203036</td>\n",
       "      <td>0.106775</td>\n",
       "      <td>59.690841</td>\n",
       "      <td>0.340751</td>\n",
       "    </tr>\n",
       "    <tr>\n",
       "      <th>min</th>\n",
       "      <td>0.000000</td>\n",
       "      <td>0.000000</td>\n",
       "      <td>0.000000</td>\n",
       "      <td>2.000000</td>\n",
       "      <td>0.000000</td>\n",
       "    </tr>\n",
       "    <tr>\n",
       "      <th>25%</th>\n",
       "      <td>0.000000</td>\n",
       "      <td>0.000000</td>\n",
       "      <td>0.000000</td>\n",
       "      <td>36.000000</td>\n",
       "      <td>0.000000</td>\n",
       "    </tr>\n",
       "    <tr>\n",
       "      <th>50%</th>\n",
       "      <td>0.000000</td>\n",
       "      <td>0.000000</td>\n",
       "      <td>0.000000</td>\n",
       "      <td>61.000000</td>\n",
       "      <td>0.000000</td>\n",
       "    </tr>\n",
       "    <tr>\n",
       "      <th>75%</th>\n",
       "      <td>0.000000</td>\n",
       "      <td>0.000000</td>\n",
       "      <td>0.000000</td>\n",
       "      <td>121.000000</td>\n",
       "      <td>0.000000</td>\n",
       "    </tr>\n",
       "    <tr>\n",
       "      <th>max</th>\n",
       "      <td>3.000000</td>\n",
       "      <td>3.000000</td>\n",
       "      <td>2.000000</td>\n",
       "      <td>910.000000</td>\n",
       "      <td>1.000000</td>\n",
       "    </tr>\n",
       "  </tbody>\n",
       "</table>\n",
       "</div>"
      ],
      "text/plain": [
       "       word_freq_free  word_freq_win  word_freq_offer   sms_length  \\\n",
       "count     5572.000000    5572.000000      5572.000000  5572.000000   \n",
       "mean         0.058686       0.033740         0.009332    80.118808   \n",
       "std          0.286039       0.203036         0.106775    59.690841   \n",
       "min          0.000000       0.000000         0.000000     2.000000   \n",
       "25%          0.000000       0.000000         0.000000    36.000000   \n",
       "50%          0.000000       0.000000         0.000000    61.000000   \n",
       "75%          0.000000       0.000000         0.000000   121.000000   \n",
       "max          3.000000       3.000000         2.000000   910.000000   \n",
       "\n",
       "           is_spam  \n",
       "count  5572.000000  \n",
       "mean      0.134063  \n",
       "std       0.340751  \n",
       "min       0.000000  \n",
       "25%       0.000000  \n",
       "50%       0.000000  \n",
       "75%       0.000000  \n",
       "max       1.000000  "
      ]
     },
     "execution_count": 30,
     "metadata": {},
     "output_type": "execute_result"
    }
   ],
   "source": [
    "df_features.describe()"
   ]
  },
  {
   "cell_type": "code",
   "execution_count": 31,
   "id": "d1c68743",
   "metadata": {},
   "outputs": [],
   "source": [
    "from sklearn.preprocessing import StandardScaler\n",
    "from sklearn.model_selection import train_test_split\n",
    "from sklearn.naive_bayes import MultinomialNB,GaussianNB,BernoulliNB\n",
    "from sklearn.metrics import classification_report,confusion_matrix,accuracy_score,precision_score,recall_score,f1_score\n",
    "from sklearn.model_selection import GridSearchCV"
   ]
  },
  {
   "cell_type": "code",
   "execution_count": 32,
   "id": "e6f4d1f8",
   "metadata": {},
   "outputs": [],
   "source": [
    "X=df_features[['word_freq_free','word_freq_win','word_freq_offer','sms_length']]\n",
    "y=df_features['is_spam']"
   ]
  },
  {
   "cell_type": "code",
   "execution_count": 33,
   "id": "f713fa86",
   "metadata": {},
   "outputs": [],
   "source": [
    "x_train,x_test,y_train,y_test=train_test_split(X,y,test_size=0.2,random_state=42)"
   ]
  },
  {
   "cell_type": "code",
   "execution_count": 34,
   "id": "4f5cb83e",
   "metadata": {},
   "outputs": [
    {
     "name": "stdout",
     "output_type": "stream",
     "text": [
      "0.8923766816143498\n",
      "0.7586206896551724\n",
      "0.29333333333333333\n",
      "0.4230769230769231\n",
      "              precision    recall  f1-score   support\n",
      "\n",
      "           0       0.90      0.99      0.94       965\n",
      "           1       0.76      0.29      0.42       150\n",
      "\n",
      "    accuracy                           0.89      1115\n",
      "   macro avg       0.83      0.64      0.68      1115\n",
      "weighted avg       0.88      0.89      0.87      1115\n",
      "\n"
     ]
    }
   ],
   "source": [
    "model=MultinomialNB()\n",
    "model.fit(x_train,y_train)\n",
    "pred_y=model.predict(x_test)\n",
    "print(accuracy_score(y_test,pred_y))\n",
    "print(precision_score(y_test,pred_y))\n",
    "print(recall_score(y_test,pred_y))\n",
    "print(f1_score(y_test,pred_y))\n",
    "print(classification_report(y_test,pred_y))"
   ]
  },
  {
   "cell_type": "code",
   "execution_count": 35,
   "id": "5d9ef903",
   "metadata": {},
   "outputs": [
    {
     "name": "stdout",
     "output_type": "stream",
     "text": [
      "0.8896860986547085\n",
      "0.6451612903225806\n",
      "0.4\n",
      "0.49382716049382713\n",
      "              precision    recall  f1-score   support\n",
      "\n",
      "           0       0.91      0.97      0.94       965\n",
      "           1       0.65      0.40      0.49       150\n",
      "\n",
      "    accuracy                           0.89      1115\n",
      "   macro avg       0.78      0.68      0.72      1115\n",
      "weighted avg       0.88      0.89      0.88      1115\n",
      "\n"
     ]
    }
   ],
   "source": [
    "model2=GaussianNB()\n",
    "model2.fit(x_train,y_train)\n",
    "pred_y2=model2.predict(x_test)\n",
    "accuracy_score(y_test,pred_y2)\n",
    "print(accuracy_score(y_test,pred_y2))\n",
    "print(precision_score(y_test,pred_y2))\n",
    "print(recall_score(y_test,pred_y2))\n",
    "print(f1_score(y_test,pred_y2))\n",
    "print(classification_report(y_test,pred_y2))"
   ]
  },
  {
   "cell_type": "code",
   "execution_count": 36,
   "id": "9d368190",
   "metadata": {},
   "outputs": [
    {
     "name": "stdout",
     "output_type": "stream",
     "text": [
      "0.8887892376681614\n",
      "0.6382978723404256\n",
      "0.4\n",
      "0.4918032786885246\n",
      "              precision    recall  f1-score   support\n",
      "\n",
      "           0       0.91      0.96      0.94       965\n",
      "           1       0.64      0.40      0.49       150\n",
      "\n",
      "    accuracy                           0.89      1115\n",
      "   macro avg       0.78      0.68      0.71      1115\n",
      "weighted avg       0.88      0.89      0.88      1115\n",
      "\n"
     ]
    }
   ],
   "source": [
    "model3=BernoulliNB()\n",
    "model3.fit(x_train,y_train)\n",
    "pred_y3=model3.predict(x_test)\n",
    "accuracy_score(y_test,pred_y3)\n",
    "print(accuracy_score(y_test,pred_y3))\n",
    "print(precision_score(y_test,pred_y3))\n",
    "print(recall_score(y_test,pred_y3))\n",
    "print(f1_score(y_test,pred_y3))\n",
    "print(classification_report(y_test,pred_y3))"
   ]
  },
  {
   "cell_type": "code",
   "execution_count": 37,
   "id": "bbe429d6",
   "metadata": {},
   "outputs": [],
   "source": [
    "from sklearn.tree import DecisionTreeClassifier\n",
    "from sklearn.ensemble import RandomForestClassifier"
   ]
  },
  {
   "cell_type": "code",
   "execution_count": 38,
   "id": "bf1457ef",
   "metadata": {},
   "outputs": [],
   "source": [
    "param_grid = {\n",
    "    'max_depth': [1, 2, 3, 4, 5, 6, 7, 8, 9],\n",
    "    'min_samples_leaf': [1, 2, 3, 4, 5, 6, 7, 8, 9],\n",
    "    'criterion': ['gini', 'entropy'],\n",
    "     'min_samples_split': [2,3,4, 5,8,9, 10,13,17,18, 20],\n",
    "}\n"
   ]
  },
  {
   "cell_type": "code",
   "execution_count": 39,
   "id": "bbc07461",
   "metadata": {},
   "outputs": [
    {
     "data": {
      "text/plain": [
       "{'criterion': 'entropy',\n",
       " 'max_depth': 7,\n",
       " 'min_samples_leaf': 2,\n",
       " 'min_samples_split': 13}"
      ]
     },
     "execution_count": 39,
     "metadata": {},
     "output_type": "execute_result"
    }
   ],
   "source": [
    "best=GridSearchCV(param_grid=param_grid,estimator=DecisionTreeClassifier(),cv=5,n_jobs=-1)\n",
    "best.fit(x_train,y_train)\n",
    "best.best_params_   "
   ]
  },
  {
   "cell_type": "code",
   "execution_count": 40,
   "id": "d5be1d1e",
   "metadata": {},
   "outputs": [
    {
     "name": "stdout",
     "output_type": "stream",
     "text": [
      "0.8573991031390135\n",
      "0.4811715481171548\n",
      "0.7666666666666667\n",
      "0.5912596401028277\n",
      "              precision    recall  f1-score   support\n",
      "\n",
      "           0       0.96      0.87      0.91       965\n",
      "           1       0.48      0.77      0.59       150\n",
      "\n",
      "    accuracy                           0.86      1115\n",
      "   macro avg       0.72      0.82      0.75      1115\n",
      "weighted avg       0.90      0.86      0.87      1115\n",
      "\n"
     ]
    }
   ],
   "source": [
    "model_dt=DecisionTreeClassifier(max_depth=7,min_samples_leaf=2,criterion='entropy',min_samples_split=13,class_weight='balanced')\n",
    "model_dt.fit(x_train,y_train)\n",
    "pred_y_dt=model_dt.predict(x_test)\n",
    "accuracy_score(y_test,pred_y_dt)\n",
    "print(accuracy_score(y_test,pred_y_dt))\n",
    "print(precision_score(y_test,pred_y_dt))\n",
    "print(recall_score(y_test,pred_y_dt))\n",
    "print(f1_score(y_test,pred_y_dt))\n",
    "print(classification_report(y_test,pred_y_dt))"
   ]
  },
  {
   "cell_type": "code",
   "execution_count": 41,
   "id": "986e9f76",
   "metadata": {},
   "outputs": [
    {
     "name": "stdout",
     "output_type": "stream",
     "text": [
      "0.8645739910313901\n",
      "0.49783549783549785\n",
      "0.7666666666666667\n",
      "0.6036745406824147\n",
      "              precision    recall  f1-score   support\n",
      "\n",
      "           0       0.96      0.88      0.92       965\n",
      "           1       0.50      0.77      0.60       150\n",
      "\n",
      "    accuracy                           0.86      1115\n",
      "   macro avg       0.73      0.82      0.76      1115\n",
      "weighted avg       0.90      0.86      0.88      1115\n",
      "\n"
     ]
    }
   ],
   "source": [
    "model_rf=RandomForestClassifier(n_estimators=100,max_depth=100,class_weight='balanced')\n",
    "model_rf.fit(x_train,y_train)\n",
    "pred_y_rf=model_rf.predict(x_test)\n",
    "accuracy_score(y_test,pred_y_rf)\n",
    "print(accuracy_score(y_test,pred_y_rf))\n",
    "print(precision_score(y_test,pred_y_rf))\n",
    "print(recall_score(y_test,pred_y_rf))\n",
    "print(f1_score(y_test,pred_y_rf))\n",
    "print(classification_report(y_test,pred_y_rf))"
   ]
  },
  {
   "cell_type": "code",
   "execution_count": 42,
   "id": "dab662f1",
   "metadata": {},
   "outputs": [],
   "source": [
    "import pickle\n",
    "pickle.dump(model_rf,open('spam_model.pkl','wb'))"
   ]
  }
 ],
 "metadata": {
  "kernelspec": {
   "display_name": "Python 3",
   "language": "python",
   "name": "python3"
  },
  "language_info": {
   "codemirror_mode": {
    "name": "ipython",
    "version": 3
   },
   "file_extension": ".py",
   "mimetype": "text/x-python",
   "name": "python",
   "nbconvert_exporter": "python",
   "pygments_lexer": "ipython3",
   "version": "3.10.18"
  }
 },
 "nbformat": 4,
 "nbformat_minor": 5
}
