{
 "cells": [
  {
   "cell_type": "code",
   "execution_count": 31,
   "id": "88ea54b6",
   "metadata": {},
   "outputs": [],
   "source": [
    "import pandas as pd\n",
    "import matplotlib.pyplot as plt\n",
    "import seaborn as sns\n",
    "import numpy as np"
   ]
  },
  {
   "cell_type": "code",
   "execution_count": 32,
   "id": "e319eec0",
   "metadata": {},
   "outputs": [],
   "source": [
    "df = pd.read_csv(\"spam.csv\", encoding=\"latin-1\")[['v1','v2']]\n",
    "df.columns = ['label','message']\n",
    "df['is_spam'] = df['label'].map({'ham':0,'spam':1})\n",
    "df['word_freq_free'] = df['message'].str.lower().str.count('free')\n",
    "df['word_freq_win'] = df['message'].str.lower().str.count('win')\n",
    "df['word_freq_offer'] = df['message'].str.lower().str.count('offer')\n",
    "df['sms_length'] = df['message'].str.len()\n",
    "df_features = df[['word_freq_free','word_freq_win','word_freq_offer','sms_length','is_spam']]"
   ]
  },
  {
   "cell_type": "code",
   "execution_count": 33,
   "id": "67c5911f",
   "metadata": {},
   "outputs": [
    {
     "data": {
      "text/html": [
       "<div>\n",
       "<style scoped>\n",
       "    .dataframe tbody tr th:only-of-type {\n",
       "        vertical-align: middle;\n",
       "    }\n",
       "\n",
       "    .dataframe tbody tr th {\n",
       "        vertical-align: top;\n",
       "    }\n",
       "\n",
       "    .dataframe thead th {\n",
       "        text-align: right;\n",
       "    }\n",
       "</style>\n",
       "<table border=\"1\" class=\"dataframe\">\n",
       "  <thead>\n",
       "    <tr style=\"text-align: right;\">\n",
       "      <th></th>\n",
       "      <th>word_freq_free</th>\n",
       "      <th>word_freq_win</th>\n",
       "      <th>word_freq_offer</th>\n",
       "      <th>sms_length</th>\n",
       "      <th>is_spam</th>\n",
       "    </tr>\n",
       "  </thead>\n",
       "  <tbody>\n",
       "    <tr>\n",
       "      <th>0</th>\n",
       "      <td>0</td>\n",
       "      <td>0</td>\n",
       "      <td>0</td>\n",
       "      <td>111</td>\n",
       "      <td>0</td>\n",
       "    </tr>\n",
       "    <tr>\n",
       "      <th>1</th>\n",
       "      <td>0</td>\n",
       "      <td>0</td>\n",
       "      <td>0</td>\n",
       "      <td>29</td>\n",
       "      <td>0</td>\n",
       "    </tr>\n",
       "    <tr>\n",
       "      <th>2</th>\n",
       "      <td>1</td>\n",
       "      <td>1</td>\n",
       "      <td>0</td>\n",
       "      <td>155</td>\n",
       "      <td>1</td>\n",
       "    </tr>\n",
       "    <tr>\n",
       "      <th>3</th>\n",
       "      <td>0</td>\n",
       "      <td>0</td>\n",
       "      <td>0</td>\n",
       "      <td>49</td>\n",
       "      <td>0</td>\n",
       "    </tr>\n",
       "    <tr>\n",
       "      <th>4</th>\n",
       "      <td>0</td>\n",
       "      <td>0</td>\n",
       "      <td>0</td>\n",
       "      <td>61</td>\n",
       "      <td>0</td>\n",
       "    </tr>\n",
       "  </tbody>\n",
       "</table>\n",
       "</div>"
      ],
      "text/plain": [
       "   word_freq_free  word_freq_win  word_freq_offer  sms_length  is_spam\n",
       "0               0              0                0         111        0\n",
       "1               0              0                0          29        0\n",
       "2               1              1                0         155        1\n",
       "3               0              0                0          49        0\n",
       "4               0              0                0          61        0"
      ]
     },
     "execution_count": 33,
     "metadata": {},
     "output_type": "execute_result"
    }
   ],
   "source": [
    "df_features.head()"
   ]
  },
  {
   "cell_type": "code",
   "execution_count": 108,
   "id": "d1c68743",
   "metadata": {},
   "outputs": [],
   "source": [
    "from sklearn.preprocessing import StandardScaler\n",
    "from sklearn.model_selection import train_test_split\n",
    "from sklearn.naive_bayes import MultinomialNB,GaussianNB,BernoulliNB\n",
    "from sklearn.metrics import classification_report,confusion_matrix,accuracy_score\n",
    "from sklearn.model_selection import GridSearchCV"
   ]
  },
  {
   "cell_type": "code",
   "execution_count": 35,
   "id": "e6f4d1f8",
   "metadata": {},
   "outputs": [],
   "source": [
    "X=df_features[['word_freq_free','word_freq_win','word_freq_offer','sms_length']]\n",
    "y=df_features['is_spam']"
   ]
  },
  {
   "cell_type": "code",
   "execution_count": 36,
   "id": "f713fa86",
   "metadata": {},
   "outputs": [],
   "source": [
    "x_train,x_test,y_train,y_test=train_test_split(X,y,test_size=0.2,random_state=42)"
   ]
  },
  {
   "cell_type": "code",
   "execution_count": 72,
   "id": "4f5cb83e",
   "metadata": {},
   "outputs": [
    {
     "data": {
      "text/plain": [
       "0.8923766816143498"
      ]
     },
     "execution_count": 72,
     "metadata": {},
     "output_type": "execute_result"
    }
   ],
   "source": [
    "model=MultinomialNB()\n",
    "model.fit(x_train,y_train)\n",
    "pred_y=model.predict(x_test)\n",
    "accuracy_score(y_test,pred_y)"
   ]
  },
  {
   "cell_type": "code",
   "execution_count": 69,
   "id": "5d9ef903",
   "metadata": {},
   "outputs": [
    {
     "data": {
      "text/plain": [
       "0.8896860986547085"
      ]
     },
     "execution_count": 69,
     "metadata": {},
     "output_type": "execute_result"
    }
   ],
   "source": [
    "model2=GaussianNB()\n",
    "model2.fit(x_train,y_train)\n",
    "pred_y2=model2.predict(x_test)\n",
    "accuracy_score(y_test,pred_y2)"
   ]
  },
  {
   "cell_type": "code",
   "execution_count": 71,
   "id": "9d368190",
   "metadata": {},
   "outputs": [
    {
     "data": {
      "text/plain": [
       "0.8887892376681614"
      ]
     },
     "execution_count": 71,
     "metadata": {},
     "output_type": "execute_result"
    }
   ],
   "source": [
    "model3=BernoulliNB()\n",
    "model3.fit(x_train,y_train)\n",
    "pred_y2=model3.predict(x_test)\n",
    "accuracy_score(y_test,pred_y2)"
   ]
  },
  {
   "cell_type": "code",
   "execution_count": 95,
   "id": "bbe429d6",
   "metadata": {},
   "outputs": [],
   "source": [
    "from sklearn.tree import DecisionTreeClassifier\n",
    "from sklearn.ensemble import RandomForestClassifier"
   ]
  },
  {
   "cell_type": "code",
   "execution_count": 130,
   "id": "bf1457ef",
   "metadata": {},
   "outputs": [],
   "source": [
    "param_grid = {\n",
    "    'max_depth': [1, 2, 3, 4, 5, 6, 7, 8, 9],\n",
    "    'min_samples_leaf': [1, 2, 3, 4, 5, 6, 7, 8, 9],\n",
    "    'criterion': ['gini', 'entropy'],\n",
    "     'min_samples_split': [2,3,4, 5,8,9, 10,13,17,18, 20],\n",
    "}\n"
   ]
  },
  {
   "cell_type": "code",
   "execution_count": 131,
   "id": "bbc07461",
   "metadata": {},
   "outputs": [
    {
     "data": {
      "text/plain": [
       "{'criterion': 'entropy',\n",
       " 'max_depth': 7,\n",
       " 'min_samples_leaf': 2,\n",
       " 'min_samples_split': 13}"
      ]
     },
     "execution_count": 131,
     "metadata": {},
     "output_type": "execute_result"
    }
   ],
   "source": [
    "best=GridSearchCV(param_grid=param_grid,estimator=DecisionTreeClassifier(),cv=5)\n",
    "best.fit(x_train,y_train)\n",
    "best.best_params_   "
   ]
  },
  {
   "cell_type": "code",
   "execution_count": 133,
   "id": "d5be1d1e",
   "metadata": {},
   "outputs": [
    {
     "data": {
      "text/plain": [
       "0.9094170403587444"
      ]
     },
     "execution_count": 133,
     "metadata": {},
     "output_type": "execute_result"
    }
   ],
   "source": [
    "model_dt=DecisionTreeClassifier(max_depth=7,min_samples_leaf=2,criterion='entropy',min_samples_split=13)\n",
    "model_dt.fit(x_train,y_train)\n",
    "pred_y_dt=model_dt.predict(x_test)\n",
    "accuracy_score(y_test,pred_y_dt)"
   ]
  },
  {
   "cell_type": "code",
   "execution_count": 100,
   "id": "986e9f76",
   "metadata": {},
   "outputs": [
    {
     "data": {
      "text/plain": [
       "0.895067264573991"
      ]
     },
     "execution_count": 100,
     "metadata": {},
     "output_type": "execute_result"
    }
   ],
   "source": [
    "model_rf=RandomForestClassifier(n_estimators=100,max_depth=100)\n",
    "model_rf.fit(x_train,y_train)\n",
    "pred_y_rf=model_rf.predict(x_test)\n",
    "accuracy_score(y_test,pred_y_rf)"
   ]
  },
  {
   "cell_type": "code",
   "execution_count": 134,
   "id": "dab662f1",
   "metadata": {},
   "outputs": [],
   "source": [
    "import pickle\n",
    "pickle.dump(model_rf,open('spam_model.pkl','wb'))"
   ]
  }
 ],
 "metadata": {
  "kernelspec": {
   "display_name": "Python 3",
   "language": "python",
   "name": "python3"
  },
  "language_info": {
   "codemirror_mode": {
    "name": "ipython",
    "version": 3
   },
   "file_extension": ".py",
   "mimetype": "text/x-python",
   "name": "python",
   "nbconvert_exporter": "python",
   "pygments_lexer": "ipython3",
   "version": "3.10.18"
  }
 },
 "nbformat": 4,
 "nbformat_minor": 5
}
